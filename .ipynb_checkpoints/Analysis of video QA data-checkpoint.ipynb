{
 "cells": [
  {
   "cell_type": "markdown",
   "metadata": {},
   "source": [
    "# 1. Analysis of QA"
   ]
  },
  {
   "cell_type": "code",
   "execution_count": 1,
   "metadata": {
    "collapsed": true
   },
   "outputs": [],
   "source": [
    "qa_file = 'MovieQA_benchmark/data/qa.json'"
   ]
  },
  {
   "cell_type": "code",
   "execution_count": 2,
   "metadata": {
    "collapsed": true,
    "scrolled": true
   },
   "outputs": [],
   "source": [
    "import json\n",
    "\n",
    "\n",
    "with open(qa_file, 'r') as f:\n",
    "    read_data = json.load(f)\n",
    "    \n",
    "# pprint(read_data)"
   ]
  },
  {
   "cell_type": "code",
   "execution_count": 3,
   "metadata": {},
   "outputs": [
    {
     "data": {
      "text/plain": [
       "list"
      ]
     },
     "execution_count": 3,
     "metadata": {},
     "output_type": "execute_result"
    }
   ],
   "source": [
    "type(read_data)"
   ]
  },
  {
   "cell_type": "code",
   "execution_count": 4,
   "metadata": {
    "collapsed": true
   },
   "outputs": [],
   "source": [
    "from pprint import pprint # The pprint module provides a capability to “pretty-print” arbitrary Python data structures"
   ]
  },
  {
   "cell_type": "code",
   "execution_count": 5,
   "metadata": {
    "collapsed": true
   },
   "outputs": [],
   "source": [
    "def is_videoQA(qa_set):\n",
    "    if len(qa_set['video_clips']) == 0:\n",
    "        # print('This QA set is a textQA.')\n",
    "        return False\n",
    "    else:\n",
    "        # print('This QA set is a videoQA.')\n",
    "        return True"
   ]
  },
  {
   "cell_type": "code",
   "execution_count": 6,
   "metadata": {
    "scrolled": true
   },
   "outputs": [
    {
     "name": "stdout",
     "output_type": "stream",
     "text": [
      "{u'answers': [u'To kill them',\n",
      "              u\"To frame them for Bobby's murder\",\n",
      "              u'To have hem arrested for trying to kill him',\n",
      "              u'To have them fired from their jobs',\n",
      "              u'To report them to the police'],\n",
      " u'correct_index': 0,\n",
      " u'imdb_key': u'tt1499658',\n",
      " u'qid': u'train:3741',\n",
      " u'question': u'What does Harken threaten to do when he realizes that Nick, Kurt, and Dale are trying to blackmail him?',\n",
      " u'video_clips': [u'tt1499658.sf-113681.ef-114372.video.mp4']}\n"
     ]
    }
   ],
   "source": [
    "import random\n",
    "qa_set = random.choice(read_data)\n",
    "pprint(qa_set)"
   ]
  },
  {
   "cell_type": "code",
   "execution_count": 7,
   "metadata": {},
   "outputs": [
    {
     "data": {
      "text/plain": [
       "True"
      ]
     },
     "execution_count": 7,
     "metadata": {},
     "output_type": "execute_result"
    }
   ],
   "source": [
    "is_videoQA(qa_set)"
   ]
  },
  {
   "cell_type": "code",
   "execution_count": 8,
   "metadata": {
    "scrolled": true
   },
   "outputs": [
    {
     "name": "stdout",
     "output_type": "stream",
     "text": [
      "{u'answers': [u'A cafe',\n",
      "              u'An Italian restuarant',\n",
      "              u'A pizzeria',\n",
      "              u'A Chinese restuarant',\n",
      "              u'Japanese restaurant'],\n",
      " u'correct_index': 3,\n",
      " u'imdb_key': u'tt0780504',\n",
      " u'qid': u'train:2638',\n",
      " u'question': u'In what kind of restaurant do the driver and Bernie meet?',\n",
      " u'video_clips': [u'tt0780504.sf-124531.ef-127479.video.mp4']}\n"
     ]
    }
   ],
   "source": [
    "qa_set2 = random.choice(read_data)\n",
    "pprint(qa_set2)"
   ]
  },
  {
   "cell_type": "code",
   "execution_count": 9,
   "metadata": {},
   "outputs": [
    {
     "data": {
      "text/plain": [
       "True"
      ]
     },
     "execution_count": 9,
     "metadata": {},
     "output_type": "execute_result"
    }
   ],
   "source": [
    "is_videoQA(qa_set2)"
   ]
  },
  {
   "cell_type": "code",
   "execution_count": 10,
   "metadata": {
    "collapsed": true
   },
   "outputs": [],
   "source": [
    "videoQA = list()"
   ]
  },
  {
   "cell_type": "code",
   "execution_count": 11,
   "metadata": {
    "collapsed": true
   },
   "outputs": [],
   "source": [
    "for qa_set in read_data:\n",
    "    if is_videoQA(qa_set):\n",
    "        videoQA.append(qa_set)"
   ]
  },
  {
   "cell_type": "code",
   "execution_count": 12,
   "metadata": {},
   "outputs": [
    {
     "data": {
      "text/plain": [
       "6516"
      ]
     },
     "execution_count": 12,
     "metadata": {},
     "output_type": "execute_result"
    }
   ],
   "source": [
    "len(videoQA)"
   ]
  },
  {
   "cell_type": "code",
   "execution_count": 13,
   "metadata": {
    "scrolled": false
   },
   "outputs": [
    {
     "name": "stdout",
     "output_type": "stream",
     "text": [
      "{u'answers': [u'Because the Elves killed his grandfather',\n",
      "              u'Because he is a Dwarf',\n",
      "              u\"Because he witnessed Thranduil and the Wood-elves left Thorin and his people suffer Smaug's attack alone instead of helping them\",\n",
      "              u'Because the Elves stole gold from the Dwarves',\n",
      "              u'Because the Elves aided Smaug to attack Thorin and his people'],\n",
      " u'correct_index': 2,\n",
      " u'imdb_key': u'tt0903624',\n",
      " u'qid': u'train:7925',\n",
      " u'question': u'Why does Thorin hate the Elves?',\n",
      " u'video_clips': [u'tt0903624.sf-012089.ef-013951.video.mp4']}\n",
      "{u'answers': [u\"Because Luis tells Bateman he's in love with him\",\n",
      "              u'Because Luis likes his secretary, Jean',\n",
      "              u\"Because Luis is having an affair with Bateman's fiance\",\n",
      "              u\"Because he is jealous of Luis' new business card\",\n",
      "              u'Because he hates Luis'],\n",
      " u'correct_index': 3,\n",
      " u'imdb_key': u'tt0144084',\n",
      " u'qid': u'train:1054',\n",
      " u'question': u'Why does Bateman try to kill Luis in the restaurant?',\n",
      " u'video_clips': [u'tt0144084.sf-069220.ef-069834.video.mp4',\n",
      "                  u'tt0144084.sf-069835.ef-070160.video.mp4']}\n",
      "{u'answers': [u'Tyler', u'The narrator', u'Thomas', u'Richard', u'Bob'],\n",
      " u'correct_index': None,\n",
      " u'imdb_key': u'tt0137523',\n",
      " u'qid': u'test:1907',\n",
      " u'question': u'Who saves Marla from a pill overdose?',\n",
      " u'video_clips': [u'tt0137523.sf-068015.ef-075243.video.mp4']}\n",
      "{u'answers': [u'He is detained by airport security after getting into a fight with an employee.',\n",
      "              u'He meets his friend Todd Maher.',\n",
      "              u'He loses his briefcase.',\n",
      "              u'He is detained by airport security.',\n",
      "              u'He goes shopping at the duty store and misses his flight.'],\n",
      " u'correct_index': 3,\n",
      " u'imdb_key': u'tt0359950',\n",
      " u'qid': u'train:8528',\n",
      " u'question': u'What happens to Walter while at the airport?',\n",
      " u'video_clips': [u'tt0359950.sf-129766.ef-131200.video.mp4',\n",
      "                  u'tt0359950.sf-131201.ef-131393.video.mp4',\n",
      "                  u'tt0359950.sf-131394.ef-131821.video.mp4']}\n",
      "{u'answers': [u\"Lloyd Hooks' hitman\",\n",
      "              u\"Luisa Rey's boss\",\n",
      "              u\"Luisa Rey's husband\",\n",
      "              u\"Rufus Sixsmith's best friend\",\n",
      "              u\"Rufus Sixsmith's coworker\"],\n",
      " u'correct_index': None,\n",
      " u'imdb_key': u'tt1371111',\n",
      " u'qid': u'test:1415',\n",
      " u'question': u'Who is Bill Smoke?',\n",
      " u'video_clips': [u'tt1371111.sf-060331.ef-061100.video.mp4',\n",
      "                  u'tt1371111.sf-061101.ef-061260.video.mp4',\n",
      "                  u'tt1371111.sf-067892.ef-069723.video.mp4']}\n",
      "{u'answers': [u'Blanche', u'Nino', u'Shannon', u'Standard', u'Doc'],\n",
      " u'correct_index': 1,\n",
      " u'imdb_key': u'tt0780504',\n",
      " u'qid': u'train:2630',\n",
      " u'question': u'Who was behind the robbery, as Cook tells?',\n",
      " u'video_clips': [u'tt0780504.sf-090250.ef-091493.video.mp4',\n",
      "                  u'tt0780504.sf-091494.ef-093056.video.mp4',\n",
      "                  u'tt0780504.sf-093057.ef-093311.video.mp4']}\n",
      "{u'answers': [u'By trying to flee Port Royal with her',\n",
      "              u'He attacks the prison guards',\n",
      "              u'By sneaking her out of prison',\n",
      "              u'By stowing her away on the Edinburgh Trader',\n",
      "              u\"By bribing Mercer, Beckett's aide\"],\n",
      " u'correct_index': 0,\n",
      " u'imdb_key': u'tt0383574',\n",
      " u'qid': u'train:5963',\n",
      " u'question': u'How does Governor Swann attempt to save Elizabeth?',\n",
      " u'video_clips': [u'tt0383574.sf-037728.ef-040198.video.mp4']}\n",
      "{u'answers': [u'The Death Eaters try to leave',\n",
      "              u\"Dumbledore's Army and the Death Eaters settle their differences and agree to work together\",\n",
      "              u\"Dumbledore's Army and the Death Eaters kill each other\",\n",
      "              u\"Dumbledore's Army tries to leave\",\n",
      "              u\"Dumbledore's Army and the Death Eaters start fighting\"],\n",
      " u'correct_index': None,\n",
      " u'imdb_key': u'tt0373889',\n",
      " u'qid': u'test:2464',\n",
      " u'question': u'What happens when Harry refuses to give Lucius the prophecy?',\n",
      " u'video_clips': [u'tt0373889.sf-159087.ef-159250.video.mp4',\n",
      "                  u'tt0373889.sf-159251.ef-161020.video.mp4']}\n",
      "{u'answers': [u'Indy, Henry, Marcus, and Elsa',\n",
      "              u'Indy, Marcus, and Sallah',\n",
      "              u'Indy, Donovan, Marcus, and Sallah',\n",
      "              u'Indy, Elsa, Marcus, and Sallah',\n",
      "              u'Indy, Henry, Marcus, and Sallah'],\n",
      " u'correct_index': 4,\n",
      " u'imdb_key': u'tt0097576',\n",
      " u'qid': u'train:4056',\n",
      " u'question': u'Who survives the temple collapsing?',\n",
      " u'video_clips': [u'tt0097576.sf-169736.ef-170754.video.mp4',\n",
      "                  u'tt0097576.sf-170755.ef-171062.video.mp4']}\n",
      "{u'answers': [u'dehydration',\n",
      "              u'low blood sugar',\n",
      "              u'he is attacked by Altobello',\n",
      "              u'diabetic stroke',\n",
      "              u'heart attack'],\n",
      " u'correct_index': None,\n",
      " u'imdb_key': u'tt0099674',\n",
      " u'qid': u'test:4365',\n",
      " u'question': u'Why does Michael end up in the hospital?',\n",
      " u'video_clips': [u'tt0099674.sf-095311.ef-096200.video.mp4',\n",
      "                  u'tt0099674.sf-096201.ef-098330.video.mp4']}\n"
     ]
    }
   ],
   "source": [
    "# Test: No QA-set that has zero vidoe clip exists.\n",
    "for i in range(10):\n",
    "    pprint(random.choice(videoQA))"
   ]
  },
  {
   "cell_type": "markdown",
   "metadata": {
    "collapsed": true
   },
   "source": [
    "# 2. Count the number of words in a video question"
   ]
  },
  {
   "cell_type": "code",
   "execution_count": 14,
   "metadata": {
    "collapsed": true
   },
   "outputs": [],
   "source": [
    "vqa_set = random.choice(videoQA)"
   ]
  },
  {
   "cell_type": "code",
   "execution_count": 15,
   "metadata": {},
   "outputs": [
    {
     "name": "stdout",
     "output_type": "stream",
     "text": [
      "{u'answers': [u\"To punish the Na'vi\",\n",
      "              u\"Because it's poisonous.\",\n",
      "              u\"Because the Na'vi will never abandon it.\",\n",
      "              u'The tree will die soon.',\n",
      "              u'Because there is gold underneath it'],\n",
      " u'correct_index': 2,\n",
      " u'imdb_key': u'tt0499549',\n",
      " u'qid': u'train:1333',\n",
      " u'question': u'Why does the company want to destroy Hometree?',\n",
      " u'video_clips': [u'tt0499549.sf-035603.ef-039706.video.mp4',\n",
      "                  u'tt0499549.sf-080879.ef-082350.video.mp4']}\n"
     ]
    }
   ],
   "source": [
    "pprint(vqa_set)"
   ]
  },
  {
   "cell_type": "code",
   "execution_count": 16,
   "metadata": {
    "scrolled": true
   },
   "outputs": [
    {
     "name": "stdout",
     "output_type": "stream",
     "text": [
      "Why does the company want to destroy Hometree?\n"
     ]
    }
   ],
   "source": [
    "print(vqa_set['question'])"
   ]
  },
  {
   "cell_type": "markdown",
   "metadata": {},
   "source": [
    "__Define__\n",
    "\n",
    "Words are only composed of alphabets or numbers. "
   ]
  },
  {
   "cell_type": "markdown",
   "metadata": {},
   "source": [
    "__Define__\n",
    "\n",
    "$(\\text{the number of words in a question}) = (\\text{the number of spaces in a sentence}) + 1$"
   ]
  },
  {
   "cell_type": "markdown",
   "metadata": {},
   "source": [
    "__The process of counting words in a sentence__\n",
    "\n",
    "* Erase every character that is not a character. Say this process as 'normalization'."
   ]
  },
  {
   "cell_type": "code",
   "execution_count": 17,
   "metadata": {
    "collapsed": true
   },
   "outputs": [],
   "source": [
    "import re\n",
    "def normalize(sentence):\n",
    "    return re.sub(r'[^a-zA-Z0-9 ]',\n",
    "                  r'',\n",
    "                 sentence)"
   ]
  },
  {
   "cell_type": "code",
   "execution_count": 18,
   "metadata": {},
   "outputs": [
    {
     "name": "stdout",
     "output_type": "stream",
     "text": [
      "Why does the company want to destroy Hometree\n"
     ]
    }
   ],
   "source": [
    "print(normalize(vqa_set['question']))"
   ]
  },
  {
   "cell_type": "code",
   "execution_count": 19,
   "metadata": {
    "collapsed": true
   },
   "outputs": [],
   "source": [
    "def count_word(sentence):\n",
    "    normalized_sentence = normalize(sentence)\n",
    "    list_word = normalized_sentence.split()\n",
    "    return len(list_word)"
   ]
  },
  {
   "cell_type": "code",
   "execution_count": 20,
   "metadata": {},
   "outputs": [
    {
     "data": {
      "text/plain": [
       "8"
      ]
     },
     "execution_count": 20,
     "metadata": {},
     "output_type": "execute_result"
    }
   ],
   "source": [
    "count_word(vqa_set['question'])"
   ]
  },
  {
   "cell_type": "markdown",
   "metadata": {},
   "source": [
    "## 2.1. Test: count_word function"
   ]
  },
  {
   "cell_type": "code",
   "execution_count": 21,
   "metadata": {
    "scrolled": true
   },
   "outputs": [
    {
     "name": "stdout",
     "output_type": "stream",
     "text": [
      "What does Harry tell his friends as they head towards the Hogwarts Express?\n",
      "13\n",
      "Where has Voldemort been living?\n",
      "5\n",
      "How does Karen react when she finds out that Henry has a love affair?\n",
      "14\n",
      "What is the Canadian laborer risking when he helps Northup to get in touch with his friends?\n",
      "17\n",
      "What is Harry's owl's name?\n",
      "5\n",
      "What tips Elle off to the fact that the cabana boy is gay?\n",
      "13\n",
      "What does Pettigrew do after killing Cedric?\n",
      "7\n",
      "Does Northup write anything on the violin?\n",
      "7\n",
      "What does Jake pray to Eywa to do?\n",
      "8\n",
      "Why does Mitch get an offer from the Bendini, Lambert & Locke firm?\n",
      "12\n",
      "Who hosts the party that Indy and his friends attend?\n",
      "10\n",
      "What do Dale, Kurt, and Nick plan to do to their bosses?\n",
      "12\n",
      "What does Lauren claim happened to her when Gramm finds her in the stairwell?\n",
      "14\n",
      "What happens after Cid falls down the stairs?\n",
      "8\n",
      "How do people around Ron react, when they find out about diagnosis?\n",
      "12\n",
      "Who does Gin visit in prison while investigating Willie?\n",
      "9\n",
      "Who went to see Calypso when she was being held captive on the Black Pearl?\n",
      "15\n",
      "What happens to Donny's ashes?\n",
      "5\n",
      "When does Drover hear that Nullah had been taken to Mission Island?\n",
      "12\n",
      "Who defends Thao from the gang when they attack him?\n",
      "10\n",
      "Where is Mozart buried?\n",
      "4\n",
      "Does Mozart know the mysterious person who commissions him to write the requiem mass?\n",
      "14\n",
      "What does Jake ask the tribe members to do in order to try to defeat Quaritch and the company?\n",
      "19\n",
      "How do Ingrid and Paul meet?\n",
      "6\n",
      "What happens when Evan reads his adolescent journals?\n",
      "8\n",
      "How does Syd smuggle the group in?\n",
      "7\n",
      "In which city does Israel live?\n",
      "6\n",
      "What are the Russian militants threatening to do?\n",
      "8\n",
      "Why is the airforce attacking Indy and Henry?\n",
      "8\n",
      "Who is Obi-Wan?\n",
      "3\n",
      "What do Razor and Blade do while Dade and Kate are being interrogated?\n",
      "13\n",
      "What does Whip use to quickly \"recover\" from his night of heavy drinking in the hotel?\n",
      "16\n",
      "Why do Jeffrey and Sandy leave the nightclub early?\n",
      "9\n",
      "How are Bilbo, Gandalf, and the Dwarves rescued from Azog?\n",
      "10\n",
      "What happens after Han and his group arrive at Cloud City?\n",
      "11\n",
      "What does Thor promise a dying Loki?\n",
      "7\n",
      "What do the men who assault the Dude destroy in his home?\n",
      "12\n",
      "What is the profession of Robert Graysmith?\n",
      "7\n",
      "Who urges Harry to speak to Helena Ravenclaw's ghost?\n",
      "9\n",
      "What do Klaatu and Prof. Barnhardt discuss?\n",
      "7\n",
      "Where does Gandalf go to after leaving the tombs of the Nazgul?\n",
      "12\n",
      "What does Andrew do when he realizes that Melanie lied to him about who she is and about her marriage to Jake?\n",
      "22\n",
      "Which country is Logan living in while he is working as a lumberjack?\n",
      "13\n",
      "How does Patrick describe his mornings?\n",
      "6\n",
      "Who hid a copy of Madame D's second will in the back of the painting?\n",
      "15\n",
      "Why was Raymond sent away from the family as a child?\n",
      "11\n",
      "What does Bianca do to get around her Dad's strict rules?\n",
      "11\n",
      "What happens when McCoy takes the cure?\n",
      "7\n",
      "What happens in the street a few minutes after Anna Scott leaves Will's bookshop?\n",
      "14\n",
      "What does the crowd promise to do for Hannah/Miley?\n",
      "9\n",
      "What does the school staff learn of Ginny's whereabouts?\n",
      "9\n",
      "What does Anna see in her hallucinations on the train?\n",
      "10\n",
      "DUPLICATE - What is the name of the apartment building Allie and Hedy live in?\n",
      "14\n",
      "What does Alyssa's new girlfriend ask Alyssa at the end of the movie?\n",
      "13\n",
      "Who is Barry \"The Blade\" Muldanno?\n",
      "6\n",
      "Who is keeping Han prisoner?\n",
      "5\n",
      "What did the Bureau contribute to humanity after the Dark Ages?\n",
      "11\n",
      "Who shoots Acosta after he shoots Georgia?\n",
      "7\n",
      "Who ends up with Sebastian's Jaguar?\n",
      "6\n",
      "What does Emma reveal to Brooks about Jane?\n",
      "8\n",
      "Who goes to Nolan and blames Neil's death on Keating?\n",
      "10\n",
      "What does Harry think the Chairman's new goal is?\n",
      "9\n",
      "What does Tori tell her sister when she catches Tori with Paulie in bed?\n",
      "14\n",
      "Who are Lillian's bridesmaids?\n",
      "4\n",
      "Who guides Willow and the two Brownies to Razel's residence after they escape from the tavern?\n",
      "16\n",
      "When does Holden confront Alyssa about her past?\n",
      "8\n",
      "What does Locke order Messner to do after he opposes the FBI's deal with Sparazza?\n",
      "15\n",
      "What kind of video does Merril watch?\n",
      "7\n",
      "What is Jamie's ex-boyfriend's name?\n",
      "5\n",
      "What does Wesley discover in his bank account on his way to work?\n",
      "13\n",
      "What forces Walter to leave the volcano?\n",
      "7\n",
      "Where did the Jedi get their supernatural powers from?\n",
      "9\n",
      "What happens when Jamie comes to spend the night at Chris' house?\n",
      "12\n",
      "What is the name of the man Jules and Vincent work for?\n",
      "12\n",
      "What does Sonny see in his dreams?\n",
      "7\n",
      "What does Patrick do the first time Kat tries to kiss him?\n",
      "12\n",
      "Who arranges for the escape of the Dwarves from the Elves?\n",
      "11\n",
      "What does Pettigrew do after killing Cedric?\n",
      "7\n",
      "Wat happens to Donovan when he drinks from the Golden chalice given to him by Elsa?\n",
      "16\n",
      "What happens when Harry gets fed up during one of his Occlumency lessons with Snape?\n",
      "15\n",
      "What does Ramos fear might happen to Pita?\n",
      "8\n",
      "What happens between Jane and Rochester when he proposes to her?\n",
      "11\n",
      "What is Brooks addicted to?\n",
      "5\n",
      "Who accompanies Gandalf to safety?\n",
      "5\n",
      "How many hostages were killed in the robbery?\n",
      "8\n",
      "What does the photo from negative #25 show?\n",
      "8\n",
      "What does Anakin do after he has premonitions of his mother in pain?\n",
      "13\n",
      "Who has driven the Rebels from Yavin 4?\n",
      "8\n",
      "What happens to Dumbledore after Harry defeats Riddle?\n",
      "8\n",
      "What does the driver offer to do to help protect Irene and Benicio?\n",
      "13\n",
      "What is the name of the kid Willie meets and befriends at the mall?\n",
      "14\n",
      "What does Dorothy do when Jeffrey refuses to hit her again?\n",
      "11\n",
      "What does Melanie learn about Jake from her friends?\n",
      "9\n",
      "Do Nick and Amy stay together in the end of the movie?\n",
      "12\n",
      "Does Hunter have any combat experience?\n",
      "6\n",
      "What is the profession of the movie's narrator?\n",
      "8\n",
      "How do Carrie and Margaret die?\n",
      "6\n",
      "What is Minny most skilled at?\n",
      "6\n",
      "What name does Kovaz mention to Baer at the hospital?\n",
      "10\n",
      "What is Frobisher's lover's name?\n",
      "5\n"
     ]
    }
   ],
   "source": [
    "for i in range(100):\n",
    "    vqa_set = random.choice(videoQA)\n",
    "    print(vqa_set['question'])\n",
    "    print(count_word(vqa_set['question']))"
   ]
  },
  {
   "cell_type": "markdown",
   "metadata": {},
   "source": [
    "__Test Result__: Randomly chosen 100 examples out of 100 are well counted."
   ]
  },
  {
   "cell_type": "markdown",
   "metadata": {},
   "source": [
    "## 2.2. Result: the average number of words in a video question"
   ]
  },
  {
   "cell_type": "code",
   "execution_count": 22,
   "metadata": {
    "collapsed": true
   },
   "outputs": [],
   "source": [
    "def count_word_in_all_question():\n",
    "    count = 0\n",
    "    for vqa_set in videoQA:\n",
    "        count = count + count_word(vqa_set['question'])\n",
    "    return count"
   ]
  },
  {
   "cell_type": "code",
   "execution_count": 23,
   "metadata": {},
   "outputs": [
    {
     "data": {
      "text/plain": [
       "62461"
      ]
     },
     "execution_count": 23,
     "metadata": {},
     "output_type": "execute_result"
    }
   ],
   "source": [
    "count_word_in_all_question()"
   ]
  },
  {
   "cell_type": "code",
   "execution_count": 24,
   "metadata": {
    "collapsed": true
   },
   "outputs": [],
   "source": [
    "def average_word_in_question():\n",
    "    return float(count_word_in_all_question()) / len(videoQA) # Each QA set has only one question."
   ]
  },
  {
   "cell_type": "code",
   "execution_count": 25,
   "metadata": {
    "scrolled": true
   },
   "outputs": [
    {
     "data": {
      "text/plain": [
       "9.585788827501535"
      ]
     },
     "execution_count": 25,
     "metadata": {},
     "output_type": "execute_result"
    }
   ],
   "source": [
    "average_word_in_question()"
   ]
  },
  {
   "cell_type": "markdown",
   "metadata": {},
   "source": [
    "__The average number of words in a question__: 9.585788827501535 = 9.5858"
   ]
  },
  {
   "cell_type": "markdown",
   "metadata": {},
   "source": [
    "# 3. Count the number of words in a video answer"
   ]
  },
  {
   "cell_type": "markdown",
   "metadata": {},
   "source": [
    "The number of answers in each video QA set is 5."
   ]
  },
  {
   "cell_type": "code",
   "execution_count": 26,
   "metadata": {
    "collapsed": true
   },
   "outputs": [],
   "source": [
    "def count_word_in_all_answer():\n",
    "    count = 0\n",
    "    for vqa_set in videoQA:\n",
    "        for answer in vqa_set['answers']:\n",
    "            count = count + count_word(answer)\n",
    "    return count"
   ]
  },
  {
   "cell_type": "code",
   "execution_count": 27,
   "metadata": {},
   "outputs": [
    {
     "data": {
      "text/plain": [
       "173968"
      ]
     },
     "execution_count": 27,
     "metadata": {},
     "output_type": "execute_result"
    }
   ],
   "source": [
    "count_word_in_all_answer()"
   ]
  },
  {
   "cell_type": "code",
   "execution_count": 28,
   "metadata": {
    "collapsed": true
   },
   "outputs": [],
   "source": [
    "def average_word_in_answer():\n",
    "    return float(count_word_in_all_answer()) / (5 * len(videoQA))"
   ]
  },
  {
   "cell_type": "code",
   "execution_count": 29,
   "metadata": {},
   "outputs": [
    {
     "data": {
      "text/plain": [
       "5.339717618170657"
      ]
     },
     "execution_count": 29,
     "metadata": {},
     "output_type": "execute_result"
    }
   ],
   "source": [
    "average_word_in_answer()"
   ]
  },
  {
   "cell_type": "markdown",
   "metadata": {},
   "source": [
    "__The average number of words in an answer__: 5.339717618170657 = 5.3397"
   ]
  }
 ],
 "metadata": {
  "kernelspec": {
   "display_name": "Python 2",
   "language": "python",
   "name": "python2"
  },
  "language_info": {
   "codemirror_mode": {
    "name": "ipython",
    "version": 2
   },
   "file_extension": ".py",
   "mimetype": "text/x-python",
   "name": "python",
   "nbconvert_exporter": "python",
   "pygments_lexer": "ipython2",
   "version": "2.7.13"
  }
 },
 "nbformat": 4,
 "nbformat_minor": 2
}
