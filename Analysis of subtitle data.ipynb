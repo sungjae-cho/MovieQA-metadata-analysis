{
 "cells": [
  {
   "cell_type": "markdown",
   "metadata": {},
   "source": [
    "# 1. Analysis of Subtitles"
   ]
  },
  {
   "cell_type": "code",
   "execution_count": 1,
   "metadata": {
    "collapsed": true
   },
   "outputs": [],
   "source": [
    "subtitle_directory = 'MovieQA_benchmark/story/subtt'"
   ]
  },
  {
   "cell_type": "code",
   "execution_count": 2,
   "metadata": {
    "collapsed": true
   },
   "outputs": [],
   "source": [
    "# Get the names of files from subtitles_directory\n",
    "from os import listdir\n",
    "from os.path import isfile, join\n",
    "def get_file_list(directory):\n",
    "    subtitle_files = [f for f in listdir(directory) if isfile(join(directory, f))]\n",
    "    return subtitle_files"
   ]
  },
  {
   "cell_type": "code",
   "execution_count": 3,
   "metadata": {
    "collapsed": true
   },
   "outputs": [],
   "source": [
    "subtitle_files = get_file_list(subtitle_directory)"
   ]
  },
  {
   "cell_type": "code",
   "execution_count": 4,
   "metadata": {},
   "outputs": [
    {
     "data": {
      "text/plain": [
       "408"
      ]
     },
     "execution_count": 4,
     "metadata": {},
     "output_type": "execute_result"
    }
   ],
   "source": [
    "len(subtitle_files)"
   ]
  },
  {
   "cell_type": "code",
   "execution_count": 5,
   "metadata": {
    "scrolled": false
   },
   "outputs": [
    {
     "data": {
      "text/plain": [
       "['tt0034583.srt',\n",
       " 'tt0036775.srt',\n",
       " 'tt0056923.srt',\n",
       " 'tt0061722.srt',\n",
       " 'tt0068646.srt',\n",
       " 'tt0071315.srt',\n",
       " 'tt0071562.srt',\n",
       " 'tt0074285.srt',\n",
       " 'tt0075314.srt',\n",
       " 'tt0076759.srt']"
      ]
     },
     "execution_count": 5,
     "metadata": {},
     "output_type": "execute_result"
    }
   ],
   "source": [
    "subtitle_files[0:10]"
   ]
  },
  {
   "cell_type": "code",
   "execution_count": 6,
   "metadata": {
    "collapsed": true
   },
   "outputs": [],
   "source": [
    "def get_subtitles(subtitle_file):\n",
    "    with open(join(subtitle_directory, subtitle_files[i]), 'r') as f:\n",
    "        read_data = f.read()\n",
    "    return read_data.split('\\n\\n')"
   ]
  },
  {
   "cell_type": "code",
   "execution_count": 7,
   "metadata": {
    "collapsed": true
   },
   "outputs": [],
   "source": [
    "i = 0\n",
    "subtitles = get_subtitles(subtitle_files[i])"
   ]
  },
  {
   "cell_type": "code",
   "execution_count": 8,
   "metadata": {},
   "outputs": [
    {
     "data": {
      "text/plain": [
       "['1\\n00:01:23,420 --> 00:01:26,218\\nWith the coming\\nof the Second World War...',\n",
       " '2\\n00:01:26,557 --> 00:01:30,550\\n...many eyes in imprisoned Europe\\nturned hopefully, or desperately...',\n",
       " '3\\n00:01:30,895 --> 00:01:33,557\\n...toward the freedom of the Americas.',\n",
       " '4\\n00:01:33,797 --> 00:01:36,425\\nLisbon became\\nthe great embarkation point.',\n",
       " '5\\n00:01:36,634 --> 00:01:39,797\\nBut not everybody could get\\nto Lisbon directly.',\n",
       " '6\\n00:01:40,237 --> 00:01:43,900\\nAnd so a torturous, roundabout\\nrefugee trail sprang up.',\n",
       " '7\\n00:01:44,942 --> 00:01:46,569\\nParis to Marseilles...',\n",
       " '8\\n00:01:52,583 --> 00:01:55,245\\n...across the Mediterranean to Oran.',\n",
       " '9\\n00:02:02,593 --> 00:02:07,053\\nThen, by train or auto or foot,\\nacross the rim of Africa...',\n",
       " '10\\n00:02:07,264 --> 00:02:09,755\\n...to Casablanca in French Morocco.']"
      ]
     },
     "execution_count": 8,
     "metadata": {},
     "output_type": "execute_result"
    }
   ],
   "source": [
    "subtitles[:10]"
   ]
  },
  {
   "cell_type": "code",
   "execution_count": 9,
   "metadata": {},
   "outputs": [
    {
     "name": "stdout",
     "output_type": "stream",
     "text": [
      "1\n",
      "00:01:23,420 --> 00:01:26,218\n",
      "With the coming\n",
      "of the Second World War...\n"
     ]
    }
   ],
   "source": [
    "print(subtitles[0])"
   ]
  },
  {
   "cell_type": "code",
   "execution_count": 10,
   "metadata": {
    "scrolled": true
   },
   "outputs": [
    {
     "data": {
      "text/plain": [
       "'1\\n00:01:23,420 --> 00:01:26,218\\nWith the coming\\nof the Second World War...'"
      ]
     },
     "execution_count": 10,
     "metadata": {},
     "output_type": "execute_result"
    }
   ],
   "source": [
    "subtitles[0]"
   ]
  },
  {
   "cell_type": "code",
   "execution_count": 11,
   "metadata": {
    "collapsed": true
   },
   "outputs": [],
   "source": [
    "import re\n",
    "def get_only_word_subtitle(subtitle):\n",
    "    return re.sub(r'[0-9]+\\n.+[0-9][0-9]:[0-9][0-9]:[0-9][0-9],[0-9][0-9][0-9]\\n', r'', subtitle).replace('\\n',' ') # remove time information"
   ]
  },
  {
   "cell_type": "code",
   "execution_count": 12,
   "metadata": {
    "scrolled": true
   },
   "outputs": [
    {
     "data": {
      "text/plain": [
       "'With the coming of the Second World War...'"
      ]
     },
     "execution_count": 12,
     "metadata": {},
     "output_type": "execute_result"
    }
   ],
   "source": [
    "get_only_word_subtitle(subtitles[0])"
   ]
  },
  {
   "cell_type": "code",
   "execution_count": 13,
   "metadata": {
    "collapsed": true
   },
   "outputs": [],
   "source": [
    "def get_word_subtitles(subtitles):\n",
    "    word_subtitles = list()\n",
    "    for subtitle in subtitles:\n",
    "        word_subtitles.append(get_only_word_subtitle(subtitle))\n",
    "    return word_subtitles"
   ]
  },
  {
   "cell_type": "code",
   "execution_count": 14,
   "metadata": {
    "collapsed": true
   },
   "outputs": [],
   "source": [
    "word_subtitles = get_word_subtitles(subtitles)"
   ]
  },
  {
   "cell_type": "code",
   "execution_count": 15,
   "metadata": {},
   "outputs": [
    {
     "name": "stdout",
     "output_type": "stream",
     "text": [
      "1421\n",
      "1421\n"
     ]
    }
   ],
   "source": [
    "print(len(subtitles))\n",
    "print(len(word_subtitles))"
   ]
  },
  {
   "cell_type": "code",
   "execution_count": 16,
   "metadata": {
    "scrolled": true
   },
   "outputs": [
    {
     "name": "stdout",
     "output_type": "stream",
     "text": [
      "[0]: Too bad. That's Casablanca's leading commodity.\n",
      "[1]: I'm not fighting for anything anymore except myself.\n",
      "[2]: And I hate this war so much.\n",
      "[3]: The clipper to America.\n",
      "[4]: A very puzzling fellow, this Rick. What sort is he?\n",
      "[5]: Here they are.\n",
      "[6]: I bet they're asleep in New York.\n",
      "[7]: Victor, whatever I do, will you believe that I...?\n",
      "[8]: Underground, like everywhere else.\n",
      "[9]: She did her best to convince me that she was still in love with me.\n",
      "[10]: Another precedent gone. This has been a very interesting evening.\n",
      "[11]: If you will come--\n",
      "[12]: Louis, I'll make a deal with you.\n",
      "[13]: A couple of thousand less than I thought there would be.\n",
      "[14]: Stay where you are. I don't know what you're talking about.\n",
      "[15]: My dear, perhaps you have already observed that in Casablanca human life is cheap.\n",
      "[16]: Since no one is to blame...\n",
      "[17]: In many ways I am so much older than he is.\n",
      "[18]: Sorry, monsieur, we were never to handle the police.\n",
      "[19]: You won't dare to interfere with me here.\n",
      "[20]: Perhaps if you told him I ran the second-largest banking house in Amsterdam.\n",
      "[21]: I'm going to die in Casablanca. It's a good spot for it.\n",
      "[22]: I thought you would ask me, so I brought the good brandy...\n",
      "[23]: ...and worshiped him...\n",
      "[24]: I'll die in Casablanca.\n",
      "[25]: Sam, Ferrari wants you to work for him at the Blue Parrot.\n",
      "[26]: I see what you mean.\n",
      "[27]: Love, it seems, has triumphed over virtue. Thank--\n",
      "[28]: You're a coward and a weakling.\n",
      "[29]: You love her that much?\n",
      "[30]: If that plane leaves and you're not with him, you'll regret it.\n",
      "[31]: ...I certainly won't give them to you now.\n",
      "[32]: Perhaps if you told him I ran the second-largest banking house in Amsterdam.\n",
      "[33]: Are you one of those people who cannot imagine the Germans in their beloved Paris?\n",
      "[34]: You see, major? You have nothing to worry about Rick.\n",
      "[35]: It'll be interesting to see how he manages.\n",
      "[36]: - You're saying this only to make me go. - I'm saying it because it's true.\n",
      "[37]: But that was all over long ago.\n",
      "[38]: I never drink in the morning. And every time you send my shipment over it's a little short.\n",
      "[39]: Then we shall state another time and place. Tomorrow at 10 in the prefect's office.\n",
      "[40]: - Get me the radio tower. - Put it down!\n",
      "[41]: Instead of this petty charge against him, you could get something big...\n",
      "[42]: It's a game we play. They put it on the bill, I tear up the bill. It is very convenient.\n",
      "[43]: Good. I've got the letters here, made out in blank.\n",
      "[44]: - What was the meaning of that phone call? - Victor Laszlo is on that plane.\n",
      "[45]: Cannot be rescinded. Not even questioned.\n",
      "[46]: - I don't think I can remember-- - If she can stand it, I can.\n",
      "[47]: For all of us.\n",
      "[48]: If you knew how much I loved you.\n",
      "[49]: Doesn't matter.\n",
      "[50]: We Germans must get used to all climates, from Russia to the Sahara.\n",
      "[51]: I'm awfully sorry.\n",
      "[52]: - What makes you think we want to hold you? - Ilsa is Laszlo's wife.\n",
      "[53]: Night.\n",
      "[54]: I'll have it sent over. Have a drink with me.\n",
      "[55]: Yes, Victor, I was.\n",
      "[56]: We might as well question why we breathe.\n",
      "[57]: Important.\n",
      "[58]: And if he did not leave her in Marseilles or Oran...\n",
      "[59]: That is also true, except for one destination: occupied France.\n",
      "[60]: I saved my first drink to have with you. Here.\n",
      "[61]: - For how long? - Perhaps an hour. Perhaps a little longer.\n",
      "[62]: Laugh if you will, but I happen to be familiar with your record.\n",
      "[63]: And I'm leaving, finally, this Casablanca.\n",
      "[64]: Leave him alone, Miss Ilsa. You're bad luck to him.\n",
      "[65]: We loved each other once. If those days meant anything at all to you--\n",
      "[66]: Major.\n",
      "[67]: Certainly, Rick, anything you say.\n",
      "[68]: Thank you, Carl.\n",
      "[69]: You understand how I feel.\n",
      "[70]: Yes, I found that a very expensive hobby.\n",
      "[71]: ...don't amount to a hill of beans in this crazy world.\n",
      "[72]: - Thanks, I will. - Well...\n",
      "[73]: If it's December 1941 in Casablanca, what time is it in New York?\n",
      "[74]: I guess neither one of our stories is very funny.\n",
      "[75]: - On one condition. - And that is?\n",
      "[76]: Don't be too downhearted.\n",
      "[77]: I'm not interested in politics.\n",
      "[78]: I wonder if you know that you're trying to escape from yourself...\n",
      "[79]: My watch stopped.\n",
      "[80]: He certainly didn't come here to witness a demonstration of your efficiency.\n",
      "[81]: ...an enemy of the Reich has come to Casablanca...\n",
      "[82]: The geography may be a little difficult to arrange.\n",
      "[83]: Might as well be frank, monsieur.\n",
      "[84]: You see, my dear, word has gone around.\n",
      "[85]: But no intention of selling them.\n",
      "[86]: Let's see.\n",
      "[87]: It's the new German 77th, and judging by the sound, only about 35 miles away.\n",
      "[88]: Instead of this petty charge against him, you could get something big...\n",
      "[89]: What? Do you know who I am?\n",
      "[90]: Perhaps tomorrow we'll be on the plane.\n",
      "[91]: - Monsieur Rick? - Yes?\n",
      "[92]: I know a little about women, my friend. She went.\n",
      "[93]: - In that case, you'll have to come along. - Wait. It's possible that I...\n",
      "[94]: So Yvonne's gone over to the enemy.\n",
      "[95]: ...and wait.\n",
      "[96]: Yes. I put that dress away.\n",
      "[97]: The day you left Paris...\n",
      "[98]: I ran away from you once. I can't do it again.\n",
      "[99]: Of course not. What upsets me is that Ugarte is dead...\n"
     ]
    }
   ],
   "source": [
    "import random\n",
    "for i in range(100):\n",
    "    print(\"[%d]: %s\" % (i, random.choice(word_subtitles)))"
   ]
  },
  {
   "cell_type": "code",
   "execution_count": 17,
   "metadata": {
    "collapsed": true
   },
   "outputs": [],
   "source": [
    "string = 'qwe-A qt'"
   ]
  },
  {
   "cell_type": "code",
   "execution_count": 18,
   "metadata": {
    "scrolled": true
   },
   "outputs": [
    {
     "data": {
      "text/plain": [
       "'qwe A qt'"
      ]
     },
     "execution_count": 18,
     "metadata": {},
     "output_type": "execute_result"
    }
   ],
   "source": [
    "re.sub(r'\\-([A-Z])', r' \\1', string)"
   ]
  },
  {
   "cell_type": "code",
   "execution_count": 19,
   "metadata": {
    "collapsed": true
   },
   "outputs": [],
   "source": [
    "# Remove '- ' that appears at the start.\n",
    "def remove_dash(word_subtitles):\n",
    "    for i in range(len(word_subtitles)):\n",
    "        word_subtitles[i] = word_subtitles[i].replace('- ', '')\n",
    "        word_subtitles[i] = word_subtitles[i].replace('--', ' ')\n",
    "        word_subtitles[i] = re.sub(r'\\-([A-Z])', r' \\1', word_subtitles[i])\n",
    "    return word_subtitles"
   ]
  },
  {
   "cell_type": "code",
   "execution_count": 20,
   "metadata": {
    "collapsed": true
   },
   "outputs": [],
   "source": [
    "word_subtitles = remove_dash(word_subtitles)"
   ]
  },
  {
   "cell_type": "code",
   "execution_count": 21,
   "metadata": {
    "scrolled": false
   },
   "outputs": [
    {
     "name": "stdout",
     "output_type": "stream",
     "text": [
      "[0]: Excellent, captain.\n",
      "[1]: My friends in the underground tell me that you have quite a record.\n",
      "[2]: You must know it's very important I get out of Casablanca.\n",
      "[3]: Besides, it isn't often that a man gets to display heroics before his wife.\n",
      "[4]: ...because his insides have been kicked out.\n",
      "[5]: A friend came and told me that Victor was alive.\n",
      "[6]: ...I certainly won't give them to you now.\n",
      "[7]: Rick, I think you know where those letters are.\n",
      "[8]: Then we shall state another time and place. Tomorrow at 10 in the prefect's office.\n",
      "[9]: I'll believe.\n",
      "[10]: No, Rick. Not tonight. Especially tonight.\n",
      "[11]: I'm sorry for asking.\n",
      "[12]: I was in a German concentration camp for a year.\n",
      "[13]: Practically no one.\n",
      "[14]: Then I am going to the meeting Don't tell me where you're going.\n",
      "[15]: ...and no one knows where those letters are.\n",
      "[16]: The waters? What waters? We're in the desert.\n",
      "[17]: Good night. Good night.\n",
      "[18]: Morning. Signor Ferrari is the fat gent at the table.\n",
      "[19]: And then Captain Renault sees us...\n",
      "[20]: Waiter.\n",
      "[21]: One hears a great deal about Rick in Casablanca.\n",
      "[22]: I'll make the arrangements now with Laszlo in the visitor's pen.\n",
      "[23]: Will you ask the piano player to come over here?\n",
      "[24]: And so a torturous, roundabout refugee trail sprang up.\n",
      "[25]: There are diamonds everywhere. 2400.\n",
      "[26]: All right, at a quarter to 5.\n",
      "[27]: The wild finish. A guy standing on a station platform in the rain...\n",
      "[28]: She isn't just any woman. I see.\n",
      "[29]: It's funny about your voice, how it hasn't changed. I can still hear it.\n",
      "[30]: I ran away from you once. I can't do it again.\n",
      "[31]: I want you to take Miss Lund home. Yes, sir.\n",
      "[32]: Believe me, Rick, it's true. I didn't know.\n",
      "[33]: Then release him.\n",
      "[34]: The day you left Paris...\n",
      "[35]: I'll have Laszlo come there to pick up the letters...\n",
      "[36]: Just the fact that you had your teeth straightened.\n",
      "[37]: Interesting café. I congratulate you. I congratulate you.\n",
      "[38]: Hey, what's wrong, kid?\n",
      "[39]: \"Richard, dear, I'll go with you anyplace.\n",
      "[40]: This is a pleasure I have looked forward to.\n",
      "[41]: I was willing to shoot Captain Renault, and I'm willing to shoot you.\n",
      "[42]: Since no one is to blame...\n",
      "[43]: A leader? Like Laszlo?\n",
      "[44]: Oh, of course he's losing.\n",
      "[45]: There must be some reason why you won't let me.\n",
      "[46]: Could I speak to you, please? How'd you get in here? You're underage.\n",
      "[47]: Good night. Good night.\n",
      "[48]: Again? This is no ordinary arrest.\n",
      "[49]: You didn't know she was at my place last night when you were.\n",
      "[50]: There is.\n",
      "[51]: Monsieur Rick? Yes?\n",
      "[52]: He pretty near has a monopoly on the black market here.\n",
      "[53]: ...and she did a bad thing to make certain of it...\n",
      "[54]: If you will furnish me with their names and whereabouts...\n",
      "[55]: Do you wish to place another bet, sir?\n",
      "[56]: You'll find him over there.\n",
      "[57]: I should like to discuss some matters arising from your presence on French soil.\n",
      "[58]: We want him to be here when we make the arrest.\n",
      "[59]: Them Germans will be here pretty soon, and they'll come looking for you.\n",
      "[60]: I have been thinking.\n",
      "[61]: Major.\n",
      "[62]: Don't forget you owe Rick's 100 cartons of American cigarettes.\n",
      "[63]: He went home.\n",
      "[64]: I'm leaving Casablanca on tonight's plane. The last plane.\n",
      "[65]: I reserved a table. Victor Laszlo. Yes, Monsieur Laszlo. Right this way.\n",
      "[66]: Here, the fortunate ones, through money or influence or luck...\n",
      "[67]: Tomorrow at 10, at the prefect office. We'll be there.\n",
      "[68]: Please?\n",
      "[69]: All except one.\n",
      "[70]: Two weeks, maybe three.\n",
      "[71]: We will begin with two.\n",
      "[72]: Will you ask Rick if he'll have a drink with us?\n",
      "[73]: How nice. You remembered.\n",
      "[74]: Ain't you planning on going to bed in the near future?\n",
      "[75]: Please join us, Mr. Rick.\n",
      "[76]: We loved each other once. If those days meant anything at all to you \n",
      "[77]: We'll be there at 6. I'll be there at 10.\n",
      "[78]: Please, Ilsa, don't be hasty. No, Victor.\n",
      "[79]: Get me the radio tower. Put it down!\n",
      "[80]: But when you first came, I thought You thought what?\n",
      "[81]: This place will never be the same without you.\n",
      "[82]: I wouldn't believe you no matter what you said.\n",
      "[83]: Good night.\n",
      "[84]: Chances are we'd both wind up in a concentration camp. True, Louis?\n",
      "[85]: And mademoiselle?\n",
      "[86]: Captain, the boy who's playing the piano...\n",
      "[87]: Major Strasser of the Third Reich, no less.\n",
      "[88]: A couple of thousand less than I thought there would be.\n",
      "[89]: ...you are at heart a sentimentalist.\n",
      "[90]: Here, sit down.\n",
      "[91]: Well, good luck, but be careful.\n",
      "[92]: Did you abscond with the church funds? Did you run off with a senator's wife?\n",
      "[93]: I never drink in the morning. And every time you send my shipment over it's a little short.\n",
      "[94]: Listen to me. If you knew what really happened, if you only knew the truth \n",
      "[95]: All right.\n",
      "[96]: Last night I saw what has happened to you.\n",
      "[97]: It seems that destiny has taken a hand.\n",
      "[98]: And you might do it simply because you don't like Strasser's looks.\n",
      "[99]: Good. I've got the letters here, made out in blank.\n"
     ]
    }
   ],
   "source": [
    "import random\n",
    "for i in range(100):\n",
    "    print(\"[%d]: %s\" % (i, random.choice(word_subtitles)))"
   ]
  },
  {
   "cell_type": "code",
   "execution_count": 22,
   "metadata": {
    "collapsed": true
   },
   "outputs": [],
   "source": [
    "# Concatenate if '...' appears in the start or end.\n",
    "def concatenate_word_subtitles(word_subtitles):\n",
    "    concat_word_subtitles = list()\n",
    "    pattern = '...'\n",
    "    for subtitle in word_subtitles:\n",
    "\n",
    "        if subtitle[-len(pattern):] == pattern:\n",
    "            # 'asdfasdf...'\n",
    "            subtitle = subtitle[:-len(pattern)] # 'asdfasdf...' -> 'asdfasdf'\n",
    "\n",
    "        if subtitle[:len(pattern)] == pattern:\n",
    "            # '...asdfasdf'\n",
    "            concat_word_subtitles[-1] = concat_word_subtitles[-1] + ' ' + subtitle[len(pattern):] \n",
    "        else:\n",
    "            concat_word_subtitles.append(subtitle)\n",
    "    return concat_word_subtitles"
   ]
  },
  {
   "cell_type": "code",
   "execution_count": 23,
   "metadata": {
    "collapsed": true
   },
   "outputs": [],
   "source": [
    "concat_word_subtitles = concatenate_word_subtitles(word_subtitles)"
   ]
  },
  {
   "cell_type": "code",
   "execution_count": 24,
   "metadata": {},
   "outputs": [
    {
     "data": {
      "text/plain": [
       "1345"
      ]
     },
     "execution_count": 24,
     "metadata": {},
     "output_type": "execute_result"
    }
   ],
   "source": [
    "len(concat_word_subtitles) "
   ]
  },
  {
   "cell_type": "code",
   "execution_count": 25,
   "metadata": {},
   "outputs": [
    {
     "data": {
      "text/plain": [
       "1421"
      ]
     },
     "execution_count": 25,
     "metadata": {},
     "output_type": "execute_result"
    }
   ],
   "source": [
    "len(word_subtitles)"
   ]
  },
  {
   "cell_type": "code",
   "execution_count": 26,
   "metadata": {
    "scrolled": false
   },
   "outputs": [
    {
     "data": {
      "text/plain": [
       "[\"It's not particularly my beloved Paris.\",\n",
       " 'Can you imagine us in London?',\n",
       " 'When you get there, ask me.',\n",
       " 'Diplomatist.',\n",
       " 'How about New York?',\n",
       " \"Well, there are sections of New York, major, that I wouldn't advise you to try to invade.\",\n",
       " \"Who do you think will win the war? I haven't the slightest idea.\",\n",
       " 'Rick is completely neutral about everything. And that takes in the field of women too.',\n",
       " 'You were not always so carefully neutral. We have a complete dossier on you.',\n",
       " '\"Richard Blaine, American. Age: 37. Cannot return to his country.\"',\n",
       " 'The reason is a little vague. We also know what you did in Paris.',\n",
       " \"And also we know why you left Paris. Don't worry, we're not going to broadcast it.\",\n",
       " 'Are my eyes really brown?',\n",
       " 'You will forgive my curiosity, Mr. Blaine. The point is an enemy of the Reich has come to Casablanca and we are checking up on anybody who can be of any help to us.',\n",
       " 'My interest in whether Victor Laszlo stays or goes is purely a sporting one.',\n",
       " 'In this case you have no sympathy for the fox?',\n",
       " 'Not particularly. I understand the point of view of the hound too.',\n",
       " 'Laszlo published the foulest lies in the Prague newspapers until the day we marched in.',\n",
       " 'And even after that, he continued to print scandal sheets in his cellar.',\n",
       " 'Of course, one must admit he has great courage.',\n",
       " \"I admit he's clever. Three times he slipped through our fingers.\",\n",
       " 'In Paris he continued his activities. We intend not to let it happen again.',\n",
       " 'Excuse me, gentlemen. Your business is politics, mine is running a saloon.',\n",
       " 'Good evening, Mr. Blaine.',\n",
       " 'You see, major? You have nothing to worry about Rick.',\n",
       " 'Perhaps.',\n",
       " 'I reserved a table. Victor Laszlo. Yes, Monsieur Laszlo. Right this way.',\n",
       " 'Two Cointreaux, please.',\n",
       " \"I saw no one of Ugarte's description.\",\n",
       " \"Victor, I feel somehow we shouldn't stay here.\",\n",
       " 'If we would walk out so soon it would only call attention to us.',\n",
       " 'Perhaps Ugarte is in some other part of the caf\\xc3\\xa9.',\n",
       " 'Excuse me, but you look like a couple who are on their way to America.',\n",
       " \"You'll find a market there for this ring. I'm forced to sell it at a great sacrifice.\",\n",
       " 'Thank you, but I hardly think... Perhaps for the lady.',\n",
       " 'The ring is quite unique.',\n",
       " \"Yes, I'm very interested. Good.\",\n",
       " 'What is your name?',\n",
       " 'Berger, Norwegian. At your service, sir.',\n",
       " \"I'll meet you in a few minutes at the bar.\",\n",
       " \"We don't want the ring, but thanks for showing it to us.\",\n",
       " \"Such a bargain. But that is your decision? I'm sorry, it is.\",\n",
       " 'Monsieur Laszlo, is it not? Yes?',\n",
       " 'I am Captain Renault, prefect of police.',\n",
       " 'Yes, what is it you want?',\n",
       " 'Merely to welcome you to Casablanca and wish you a pleasant stay.',\n",
       " \"It isn't often we have so distinguished a visitor.\",\n",
       " \"Thank you. I hope you'll forgive me, captain.\",\n",
       " \"The present French administration hasn't always been so cordial.\",\n",
       " 'May I present Miss Ilsa Lund.',\n",
       " 'I was told you were the most beautiful woman ever to visit Casablanca.',\n",
       " 'That was a gross understatement.',\n",
       " \"You're very kind.\",\n",
       " \"Won't you join us? If you will permit me.\",\n",
       " 'Oh, no, Emile, please. A bottle of your best champagne. And put it on my bill.',\n",
       " \"It's a game we play. They put it on the bill, I tear up the bill. It is very convenient.\",\n",
       " \"Captain, the boy who's playing the piano\",\n",
       " \"Somewhere I've seen him.\",\n",
       " 'Sam? Yes.',\n",
       " 'He came from Paris with Rick.',\n",
       " 'Rick? Who is he?',\n",
       " \"Mademoiselle, you are in Rick's. Rick is... Is what?\",\n",
       " \"Mademoiselle, he's the kind of man that, well, if I were a woman and I were not around, I should be in love with Rick.\",\n",
       " 'But what a fool I am talking to a beautiful woman about another man.',\n",
       " 'Excuse me.',\n",
       " 'Major.',\n",
       " 'Mademoiselle Lund and Monsieur Laszlo, may I present Major Strasser.',\n",
       " 'How do you do?',\n",
       " 'This is a pleasure I have looked forward to.',\n",
       " \"I'm sure you'll excuse me if I'm not gracious.\",\n",
       " 'You see, Major Strasser, I am a Czechoslovakian.',\n",
       " 'You were a Czechoslovakian. Now you are a subject of the German Reich.',\n",
       " \"I have never accepted that privilege. And I'm now on French soil.\",\n",
       " 'I should like to discuss some matters arising from your presence on French soil.',\n",
       " 'This is hardly the time or place.',\n",
       " \"Then we shall state another time and place. Tomorrow at 10 in the prefect's office.\",\n",
       " 'With mademoiselle.',\n",
       " 'Captain, I am under your authority.',\n",
       " 'Is it your order that we come to your office?',\n",
       " 'Let us say it is my request. That is a much more pleasant word.',\n",
       " 'Very well.',\n",
       " 'A very clever tactical retreat, major.',\n",
       " \"This time they really mean to stop me. Victor, I'm afraid for you.\",\n",
       " \"We've been in difficult places before, haven't we?\",\n",
       " 'I must find out what Berger knows.',\n",
       " \"Be careful. I will. Don't worry.\",\n",
       " 'Monsieur Berger, the ring. Could I see it again?',\n",
       " 'Champagne cocktail, please.',\n",
       " 'I recognize you from the news photographs, Monsieur Laszlo.',\n",
       " 'In a concentration camp, one is apt to lose a little weight.',\n",
       " 'We read five times that you were killed in five different places.',\n",
       " 'As you see, it was true every single time.',\n",
       " 'Thank heaven I found you, Berger.',\n",
       " \"I'm looking for a man by the name of Ugarte. He's supposed to help me.\",\n",
       " 'Ugarte cannot even help himself.',\n",
       " \"He's under arrest for murder. He was arrested here tonight.\",\n",
       " 'I see.',\n",
       " 'But we who are still free will do all we can. We are organized.',\n",
       " 'Underground, like everywhere else.',\n",
       " 'Tomorrow night there is a meeting at the Caverne du Bois.']"
      ]
     },
     "execution_count": 26,
     "metadata": {},
     "output_type": "execute_result"
    }
   ],
   "source": [
    "concat_word_subtitles[300:400]"
   ]
  },
  {
   "cell_type": "markdown",
   "metadata": {},
   "source": [
    "Well done!"
   ]
  },
  {
   "cell_type": "code",
   "execution_count": 27,
   "metadata": {
    "collapsed": true
   },
   "outputs": [],
   "source": [
    "s = 'This is a 0.9 stop. That is the sentence written by S. J. Cho!' "
   ]
  },
  {
   "cell_type": "code",
   "execution_count": 28,
   "metadata": {},
   "outputs": [
    {
     "data": {
      "text/plain": [
       "'This is a 0.9 sto[EOS]That is the sentence written by S. J. Ch[EOS]'"
      ]
     },
     "execution_count": 28,
     "metadata": {},
     "output_type": "execute_result"
    }
   ],
   "source": [
    "re.sub(r'[a-z0-9]([\\.?!])(\\Z| )', r'[EOS]', s)"
   ]
  },
  {
   "cell_type": "code",
   "execution_count": 29,
   "metadata": {
    "collapsed": true
   },
   "outputs": [],
   "source": [
    "matchObj = re.search(r'[a-z0-9]([\\.?!])(\\Z| )', s)"
   ]
  },
  {
   "cell_type": "code",
   "execution_count": 30,
   "metadata": {},
   "outputs": [
    {
     "data": {
      "text/plain": [
       "18"
      ]
     },
     "execution_count": 30,
     "metadata": {},
     "output_type": "execute_result"
    }
   ],
   "source": [
    "matchObj.start(1)"
   ]
  },
  {
   "cell_type": "code",
   "execution_count": 31,
   "metadata": {},
   "outputs": [
    {
     "data": {
      "text/plain": [
       "19"
      ]
     },
     "execution_count": 31,
     "metadata": {},
     "output_type": "execute_result"
    }
   ],
   "source": [
    "matchObj.end(1)"
   ]
  },
  {
   "cell_type": "code",
   "execution_count": 32,
   "metadata": {},
   "outputs": [
    {
     "data": {
      "text/plain": [
       "'.'"
      ]
     },
     "execution_count": 32,
     "metadata": {},
     "output_type": "execute_result"
    }
   ],
   "source": [
    "s[matchObj.start(1):matchObj.end(1)]"
   ]
  },
  {
   "cell_type": "code",
   "execution_count": 33,
   "metadata": {
    "scrolled": true
   },
   "outputs": [
    {
     "data": {
      "text/plain": [
       "'.'"
      ]
     },
     "execution_count": 33,
     "metadata": {},
     "output_type": "execute_result"
    }
   ],
   "source": [
    "matchObj.group(1)"
   ]
  },
  {
   "cell_type": "code",
   "execution_count": 34,
   "metadata": {
    "collapsed": true
   },
   "outputs": [],
   "source": [
    "def subtitle2sentences(subtitle):\n",
    "    sentences = list()\n",
    "    matchObj = re.search(r'[a-z0-9]([\\.?!])(\\Z| )', subtitle)\n",
    "    while matchObj != None:\n",
    "        sentences.append(s[:matchObj.end(1)])\n",
    "        subtitle = subtitle[matchObj.end(1)+1:] # It is okay to be out of the range in terms of the array slicing.\n",
    "        matchObj = re.search(r'[a-z0-9]([\\.?!])(\\Z| )', subtitle)\n",
    "    return sentences"
   ]
  },
  {
   "cell_type": "code",
   "execution_count": 35,
   "metadata": {
    "collapsed": true
   },
   "outputs": [],
   "source": [
    "def subtitles2sentences(subtitles):\n",
    "    sentences = list()\n",
    "    for subtitle in concat_word_subtitles:\n",
    "        sentences = sentences + subtitle2sentences(subtitle)\n",
    "    return sentences"
   ]
  },
  {
   "cell_type": "code",
   "execution_count": 36,
   "metadata": {
    "collapsed": true
   },
   "outputs": [],
   "source": [
    "sentences = subtitles2sentences(concat_word_subtitles)"
   ]
  },
  {
   "cell_type": "code",
   "execution_count": 37,
   "metadata": {
    "scrolled": true
   },
   "outputs": [
    {
     "data": {
      "text/plain": [
       "1827"
      ]
     },
     "execution_count": 37,
     "metadata": {},
     "output_type": "execute_result"
    }
   ],
   "source": [
    "len(sentences)"
   ]
  },
  {
   "cell_type": "markdown",
   "metadata": {},
   "source": [
    "__The number of sentences in the first subtitle 'tt0034583.srt'__: 1827\n",
    "* Uncompleted sentences are not counted.\n",
    "  * Uncomplted sentence: a sentence that is not ended with '.', '!', or '?'."
   ]
  },
  {
   "cell_type": "markdown",
   "metadata": {},
   "source": [
    "# 2. For all subtitle files"
   ]
  },
  {
   "cell_type": "code",
   "execution_count": 38,
   "metadata": {
    "collapsed": true
   },
   "outputs": [],
   "source": [
    "subtitle_directory = 'MovieQA_benchmark/story/subtt'"
   ]
  },
  {
   "cell_type": "code",
   "execution_count": 39,
   "metadata": {
    "collapsed": true
   },
   "outputs": [],
   "source": [
    "# Get the names of files from subtitles_directory\n",
    "from os import listdir\n",
    "from os.path import isfile, join\n",
    "def get_file_list(directory):\n",
    "    subtitle_files = [f for f in listdir(directory) if isfile(join(directory, f))]\n",
    "    return subtitle_files"
   ]
  },
  {
   "cell_type": "code",
   "execution_count": 40,
   "metadata": {
    "collapsed": true
   },
   "outputs": [],
   "source": [
    "subtitle_files = get_file_list(subtitle_directory)"
   ]
  },
  {
   "cell_type": "code",
   "execution_count": 41,
   "metadata": {
    "collapsed": true
   },
   "outputs": [],
   "source": [
    "def subtitle_files_to_sentences(subtitle_files):\n",
    "    sentences = list()\n",
    "    for subtitle_file in subtitle_files:\n",
    "        subtitles = get_subtitles(subtitle_file)\n",
    "        word_subtitles = get_word_subtitles(subtitles)\n",
    "        word_subtitles = remove_dash(word_subtitles)\n",
    "        concat_word_subtitles = concatenate_word_subtitles(word_subtitles)\n",
    "        sentences = sentences + subtitles2sentences(concat_word_subtitles)\n",
    "    return sentences"
   ]
  },
  {
   "cell_type": "code",
   "execution_count": 42,
   "metadata": {
    "collapsed": true
   },
   "outputs": [],
   "source": [
    "sentences = subtitle_files_to_sentences(subtitle_files)"
   ]
  },
  {
   "cell_type": "code",
   "execution_count": 43,
   "metadata": {},
   "outputs": [
    {
     "data": {
      "text/plain": [
       "745416"
      ]
     },
     "execution_count": 43,
     "metadata": {},
     "output_type": "execute_result"
    }
   ],
   "source": [
    "len(sentences)"
   ]
  },
  {
   "cell_type": "markdown",
   "metadata": {},
   "source": [
    "__\\# of sentences in all subtitles__: 745416"
   ]
  },
  {
   "cell_type": "markdown",
   "metadata": {},
   "source": [
    "# 3. Codes without experiments"
   ]
  },
  {
   "cell_type": "code",
   "execution_count": 44,
   "metadata": {
    "collapsed": true
   },
   "outputs": [],
   "source": [
    "subtitle_directory = 'MovieQA_benchmark/story/subtt'"
   ]
  },
  {
   "cell_type": "code",
   "execution_count": 45,
   "metadata": {
    "collapsed": true
   },
   "outputs": [],
   "source": [
    "# Get the names of files from subtitles_directory\n",
    "from os import listdir\n",
    "from os.path import isfile, join\n",
    "def get_file_list(directory):\n",
    "    subtitle_files = [f for f in listdir(directory) if isfile(join(directory, f))]\n",
    "    return subtitle_files"
   ]
  },
  {
   "cell_type": "code",
   "execution_count": 46,
   "metadata": {
    "collapsed": true
   },
   "outputs": [],
   "source": [
    "subtitle_files = get_file_list(subtitle_directory)"
   ]
  },
  {
   "cell_type": "code",
   "execution_count": 47,
   "metadata": {
    "collapsed": true
   },
   "outputs": [],
   "source": [
    "def get_subtitles(subtitle_file):\n",
    "    with open(join(subtitle_directory, subtitle_files[i]), 'r') as f:\n",
    "        read_data = f.read()\n",
    "    return read_data.split('\\n\\n')"
   ]
  },
  {
   "cell_type": "code",
   "execution_count": 48,
   "metadata": {
    "collapsed": true
   },
   "outputs": [],
   "source": [
    "import re\n",
    "def get_only_word_subtitle(subtitle):\n",
    "    return re.sub(r'[0-9]+\\n.+[0-9][0-9]:[0-9][0-9]:[0-9][0-9],[0-9][0-9][0-9]\\n', r'', subtitle).replace('\\n',' ') # remove time information"
   ]
  },
  {
   "cell_type": "code",
   "execution_count": 49,
   "metadata": {
    "collapsed": true
   },
   "outputs": [],
   "source": [
    "def get_word_subtitles(subtitles):\n",
    "    word_subtitles = list()\n",
    "    for subtitle in subtitles:\n",
    "        word_subtitles.append(get_only_word_subtitle(subtitle))\n",
    "    return word_subtitles"
   ]
  },
  {
   "cell_type": "code",
   "execution_count": 50,
   "metadata": {
    "collapsed": true
   },
   "outputs": [],
   "source": [
    "# Remove '- ' that appears at the start.\n",
    "def remove_dash(word_subtitles):\n",
    "    for i in range(len(word_subtitles)):\n",
    "        word_subtitles[i] = word_subtitles[i].replace('- ', '')\n",
    "        word_subtitles[i] = word_subtitles[i].replace('--', ' ')\n",
    "        word_subtitles[i] = re.sub(r'\\-([A-Z])', r' \\1', word_subtitles[i])\n",
    "    return word_subtitles"
   ]
  },
  {
   "cell_type": "code",
   "execution_count": 51,
   "metadata": {
    "collapsed": true
   },
   "outputs": [],
   "source": [
    "# Concatenate if '...' appears in the start or end.\n",
    "def concatenate_word_subtitles(word_subtitles):\n",
    "    concat_word_subtitles = list()\n",
    "    pattern = '...'\n",
    "    for subtitle in word_subtitles:\n",
    "\n",
    "        if subtitle[-len(pattern):] == pattern:\n",
    "            # 'asdfasdf...'\n",
    "            subtitle = subtitle[:-len(pattern)] # 'asdfasdf...' -> 'asdfasdf'\n",
    "\n",
    "        if subtitle[:len(pattern)] == pattern:\n",
    "            # '...asdfasdf'\n",
    "            concat_word_subtitles[-1] = concat_word_subtitles[-1] + ' ' + subtitle[len(pattern):] \n",
    "        else:\n",
    "            concat_word_subtitles.append(subtitle)\n",
    "    return concat_word_subtitles"
   ]
  },
  {
   "cell_type": "code",
   "execution_count": 52,
   "metadata": {
    "collapsed": true
   },
   "outputs": [],
   "source": [
    "def subtitle2sentences(subtitle):\n",
    "    sentences = list()\n",
    "    matchObj = re.search(r'[a-z0-9]([\\.?!])(\\Z| )', subtitle)\n",
    "    while matchObj != None:\n",
    "        sentences.append(s[:matchObj.end(1)])\n",
    "        subtitle = subtitle[matchObj.end(1)+1:] # It is okay to be out of the range in terms of the array slicing.\n",
    "        matchObj = re.search(r'[a-z0-9]([\\.?!])(\\Z| )', subtitle)\n",
    "    return sentences"
   ]
  },
  {
   "cell_type": "code",
   "execution_count": 53,
   "metadata": {
    "collapsed": true
   },
   "outputs": [],
   "source": [
    "def subtitles2sentences(subtitles):\n",
    "    sentences = list()\n",
    "    for subtitle in concat_word_subtitles:\n",
    "        sentences = sentences + subtitle2sentences(subtitle)\n",
    "    return sentences\n",
    "\n",
    "def subtitle_files_to_sentences(subtitle_files):\n",
    "    sentences = list()\n",
    "    for subtitle_file in subtitle_files:\n",
    "        subtitles = get_subtitles(subtitle_file)\n",
    "        word_subtitles = get_word_subtitles(subtitles)\n",
    "        word_subtitles = remove_dash(word_subtitles)\n",
    "        concat_word_subtitles = concatenate_word_subtitles(word_subtitles)\n",
    "        sentences = sentences + subtitles2sentences(concat_word_subtitles)\n",
    "    return sentences"
   ]
  },
  {
   "cell_type": "code",
   "execution_count": 54,
   "metadata": {
    "collapsed": true
   },
   "outputs": [],
   "source": [
    "sentences = subtitle_files_to_sentences(subtitle_files)"
   ]
  },
  {
   "cell_type": "code",
   "execution_count": 55,
   "metadata": {
    "scrolled": false
   },
   "outputs": [
    {
     "data": {
      "text/plain": [
       "745416"
      ]
     },
     "execution_count": 55,
     "metadata": {},
     "output_type": "execute_result"
    }
   ],
   "source": [
    "len(sentences)"
   ]
  },
  {
   "cell_type": "markdown",
   "metadata": {},
   "source": [
    "The following command takes very long time to be ended."
   ]
  },
  {
   "cell_type": "code",
   "execution_count": 56,
   "metadata": {},
   "outputs": [
    {
     "name": "stdout",
     "output_type": "stream",
     "text": [
      "400000\n",
      "900000\n",
      "1200000\n",
      "2300000\n",
      "4500000\n",
      "5700000\n",
      "Total number of words: 5743416\n"
     ]
    }
   ],
   "source": [
    "import re\n",
    "words = list()\n",
    "for sentence in sentences:\n",
    "    words = words + re.split(r'\\s', sentence) # r'\\s' means a regular expression\n",
    "    if len(words) % 100000 == 0:\n",
    "        print(len(words))\n",
    "print('Total number of words: %d' % (len(words)))"
   ]
  },
  {
   "cell_type": "markdown",
   "metadata": {},
   "source": [
    "# 4. Serialization: sentences, words"
   ]
  },
  {
   "cell_type": "code",
   "execution_count": 1,
   "metadata": {
    "collapsed": true
   },
   "outputs": [],
   "source": [
    "import cPickle"
   ]
  },
  {
   "cell_type": "code",
   "execution_count": 2,
   "metadata": {
    "collapsed": true
   },
   "outputs": [],
   "source": [
    "path_sentences = 'pickle_data/subtitle_sentences.p'\n",
    "path_words = 'pickle_data/subtitle_words.p'"
   ]
  },
  {
   "cell_type": "code",
   "execution_count": 65,
   "metadata": {
    "collapsed": true
   },
   "outputs": [],
   "source": [
    "with open(path_sentences, 'wb') as f:\n",
    "    cPickle.dump(sentences, f)"
   ]
  },
  {
   "cell_type": "code",
   "execution_count": 72,
   "metadata": {
    "collapsed": true
   },
   "outputs": [],
   "source": [
    "with open(path_words, 'wb') as f:\n",
    "    cPickle.dump(words, f)"
   ]
  },
  {
   "cell_type": "markdown",
   "metadata": {},
   "source": [
    "# 5. Loading the pickle files"
   ]
  },
  {
   "cell_type": "code",
   "execution_count": 1,
   "metadata": {
    "collapsed": true
   },
   "outputs": [],
   "source": [
    "import cPickle"
   ]
  },
  {
   "cell_type": "code",
   "execution_count": 2,
   "metadata": {
    "collapsed": true
   },
   "outputs": [],
   "source": [
    "path_sentences = 'pickle_data/subtitle_sentences.p'\n",
    "path_words = 'pickle_data/subtitle_words.p'"
   ]
  },
  {
   "cell_type": "code",
   "execution_count": 3,
   "metadata": {
    "collapsed": true
   },
   "outputs": [],
   "source": [
    "with open(path_sentences, 'rb') as f:\n",
    "    sentences = cPickle.load(f)"
   ]
  },
  {
   "cell_type": "code",
   "execution_count": 4,
   "metadata": {
    "collapsed": true
   },
   "outputs": [],
   "source": [
    "with open(path_words, 'rb') as f:\n",
    "    words = cPickle.load(f)"
   ]
  },
  {
   "cell_type": "code",
   "execution_count": 5,
   "metadata": {},
   "outputs": [
    {
     "data": {
      "text/plain": [
       "745416"
      ]
     },
     "execution_count": 5,
     "metadata": {},
     "output_type": "execute_result"
    }
   ],
   "source": [
    "len(sentences)"
   ]
  },
  {
   "cell_type": "code",
   "execution_count": 6,
   "metadata": {
    "scrolled": true
   },
   "outputs": [
    {
     "data": {
      "text/plain": [
       "5743416"
      ]
     },
     "execution_count": 6,
     "metadata": {},
     "output_type": "execute_result"
    }
   ],
   "source": [
    "len(words)"
   ]
  },
  {
   "cell_type": "code",
   "execution_count": 7,
   "metadata": {
    "scrolled": true
   },
   "outputs": [
    {
     "data": {
      "text/plain": [
       "7.704980842911877"
      ]
     },
     "execution_count": 7,
     "metadata": {},
     "output_type": "execute_result"
    }
   ],
   "source": [
    "float(len(words)) / len(sentences)"
   ]
  },
  {
   "cell_type": "markdown",
   "metadata": {},
   "source": [
    "__Average words per sentence__ : 7.704980842911877 = 7.7050"
   ]
  }
 ],
 "metadata": {
  "kernelspec": {
   "display_name": "Python 2",
   "language": "python",
   "name": "python2"
  },
  "language_info": {
   "codemirror_mode": {
    "name": "ipython",
    "version": 2
   },
   "file_extension": ".py",
   "mimetype": "text/x-python",
   "name": "python",
   "nbconvert_exporter": "python",
   "pygments_lexer": "ipython2",
   "version": "2.7.13"
  }
 },
 "nbformat": 4,
 "nbformat_minor": 2
}
